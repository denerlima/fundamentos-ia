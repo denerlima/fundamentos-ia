{
  "nbformat": 4,
  "nbformat_minor": 0,
  "metadata": {
    "colab": {
      "name": "Trabalho01-Analise-estatistica-com-python.ipynb",
      "provenance": [],
      "toc_visible": true,
      "include_colab_link": true
    },
    "kernelspec": {
      "name": "python3",
      "display_name": "Python 3"
    }
  },
  "cells": [
    {
      "cell_type": "markdown",
      "metadata": {
        "id": "view-in-github",
        "colab_type": "text"
      },
      "source": [
        "<a href=\"https://colab.research.google.com/github/denerlima/fundamentos-ia/blob/master/Trabalho01_Analise_estatistica_com_python.ipynb\" target=\"_parent\"><img src=\"https://colab.research.google.com/assets/colab-badge.svg\" alt=\"Open In Colab\"/></a>"
      ]
    },
    {
      "cell_type": "markdown",
      "metadata": {
        "id": "uB7Lm7orXqcN"
      },
      "source": [
        "# Trabalho 01 de análise de dados e inferência estatística com Python\n",
        "\n",
        "O objetivo deste trabalho é treinar os alunos para que possam realizar uma análise exploratória simples. Uma análise exploratória consiste em analisar o conjunto de dados em busca de insights que possam nos fornecer informações valiosas a respeito de padrões ali existentes.\n",
        "\n",
        "Sua apresentação deve conter, no mínimo, as seguintes análises:\n",
        "- Cálculos de média, média aparada, média ponderada e mediana (justifique suas escolhas de cada parâmetro) para cada disciplina;\n",
        "- Cálculos de variância, desvio padrão e MAD de cada disciplina;\n",
        "- Exibição dos histogramas de cada disciplina;\n",
        "- Cálculo da matriz de correlação e exibição do respectivo mapa de calor de todas as disciplinas;\n",
        "- Visualização 3D das notas das disciplinas separadas por cada grupo de estudantes de acordo com \"gender\", \"race/ethnicity\", \"parental level of education\", \"lunch\" e \"test preparation course\". Para cada um desses parâmetros, realize uma única visualização (colocando os pontos de cada grupo em uma cor). Ao final, discorra se há algum padrão que pode ser detectado nessas análises; e\n",
        "- Escreva suas conclusões sobre o dataset e quais métricas você julga mais interessantes, ou seja, forneça informações úteis para a tomada de decisões de um diretor de escola.\n",
        "\n",
        "As análises acimas compõem os resultados mínimos esperados no trabalho, então sinta-se incentivado a realizar análises extras. Note que, de acordo com as análises extras que você decidir realizar, este trabalho introduz o conceito de variáveis categóricas (variáveis que assumem valores específicos, não contínuos - como palavras). Um link que pode vir a ser útil é o seguinte: https://medium.com/@outside2SDs/an-overview-of-correlation-measures-between-categorical-and-continuous-variables-4c7f85610365\n",
        "\n",
        "Não é permitido o uso de métodos nem funções prontos na linguagem Python que calculam diretamente os resultados (média, mediana, variância, desvio padrão, MAD e valores de correlação). Cálculos de quantidade de elementos e soma dos elementos podem sim ser realizados por meio de funções já fornecidas pela própria linguagem.\n",
        "\n",
        "Deverá ser montada uma apresentação de, no máximo, 10 minutos por grupo (cada grupo deve conter, no máximo, 3 pessoas). Essa apresentação deve conter apenas análises e resultados, não podendo ser apresentados trechos de código. Entretanto, o grupo deve ter o código disponível e pronto para execução caso o professor avaliador deseje esclarecimentos sobre alguma técnica ou trecho de código."
      ]
    },
    {
      "cell_type": "code",
      "metadata": {
        "id": "jZCveRXhYJmI"
      },
      "source": [
        "# Importar bibliotecas\n",
        "import pandas as pd\n",
        "import seaborn as sn\n",
        "import matplotlib.pyplot as plt\n",
        "import numpy as np\n",
        "from scipy.stats import trim_mean\n",
        "import plotly.express as px"
      ],
      "execution_count": 60,
      "outputs": []
    },
    {
      "cell_type": "code",
      "metadata": {
        "id": "Jtb_2ggOY6T4",
        "outputId": "865dd6bf-1dcd-4edf-84e1-c18b359e84e9",
        "colab": {
          "base_uri": "https://localhost:8080/",
          "height": 238
        }
      },
      "source": [
        "# Ler dataset\n",
        "df = pd.read_csv('https://raw.githubusercontent.com/denerlima/fundamentos-ia/master/StudentsPerformance.csv')\n",
        "df.head()"
      ],
      "execution_count": 38,
      "outputs": [
        {
          "output_type": "execute_result",
          "data": {
            "text/html": [
              "<div>\n",
              "<style scoped>\n",
              "    .dataframe tbody tr th:only-of-type {\n",
              "        vertical-align: middle;\n",
              "    }\n",
              "\n",
              "    .dataframe tbody tr th {\n",
              "        vertical-align: top;\n",
              "    }\n",
              "\n",
              "    .dataframe thead th {\n",
              "        text-align: right;\n",
              "    }\n",
              "</style>\n",
              "<table border=\"1\" class=\"dataframe\">\n",
              "  <thead>\n",
              "    <tr style=\"text-align: right;\">\n",
              "      <th></th>\n",
              "      <th>gender</th>\n",
              "      <th>race/ethnicity</th>\n",
              "      <th>parental level of education</th>\n",
              "      <th>lunch</th>\n",
              "      <th>test preparation course</th>\n",
              "      <th>math score</th>\n",
              "      <th>reading score</th>\n",
              "      <th>writing score</th>\n",
              "    </tr>\n",
              "  </thead>\n",
              "  <tbody>\n",
              "    <tr>\n",
              "      <th>0</th>\n",
              "      <td>female</td>\n",
              "      <td>group B</td>\n",
              "      <td>bachelor's degree</td>\n",
              "      <td>standard</td>\n",
              "      <td>none</td>\n",
              "      <td>72</td>\n",
              "      <td>72</td>\n",
              "      <td>74</td>\n",
              "    </tr>\n",
              "    <tr>\n",
              "      <th>1</th>\n",
              "      <td>female</td>\n",
              "      <td>group C</td>\n",
              "      <td>some college</td>\n",
              "      <td>standard</td>\n",
              "      <td>completed</td>\n",
              "      <td>69</td>\n",
              "      <td>90</td>\n",
              "      <td>88</td>\n",
              "    </tr>\n",
              "    <tr>\n",
              "      <th>2</th>\n",
              "      <td>female</td>\n",
              "      <td>group B</td>\n",
              "      <td>master's degree</td>\n",
              "      <td>standard</td>\n",
              "      <td>none</td>\n",
              "      <td>90</td>\n",
              "      <td>95</td>\n",
              "      <td>93</td>\n",
              "    </tr>\n",
              "    <tr>\n",
              "      <th>3</th>\n",
              "      <td>male</td>\n",
              "      <td>group A</td>\n",
              "      <td>associate's degree</td>\n",
              "      <td>free/reduced</td>\n",
              "      <td>none</td>\n",
              "      <td>47</td>\n",
              "      <td>57</td>\n",
              "      <td>44</td>\n",
              "    </tr>\n",
              "    <tr>\n",
              "      <th>4</th>\n",
              "      <td>male</td>\n",
              "      <td>group C</td>\n",
              "      <td>some college</td>\n",
              "      <td>standard</td>\n",
              "      <td>none</td>\n",
              "      <td>76</td>\n",
              "      <td>78</td>\n",
              "      <td>75</td>\n",
              "    </tr>\n",
              "  </tbody>\n",
              "</table>\n",
              "</div>"
            ],
            "text/plain": [
              "   gender race/ethnicity  ... reading score writing score\n",
              "0  female        group B  ...            72            74\n",
              "1  female        group C  ...            90            88\n",
              "2  female        group B  ...            95            93\n",
              "3    male        group A  ...            57            44\n",
              "4    male        group C  ...            78            75\n",
              "\n",
              "[5 rows x 8 columns]"
            ]
          },
          "metadata": {
            "tags": []
          },
          "execution_count": 38
        }
      ]
    },
    {
      "cell_type": "code",
      "metadata": {
        "id": "29Ad8Tt7ZEhJ"
      },
      "source": [
        "# Escrever funções estatísticas"
      ],
      "execution_count": 39,
      "outputs": []
    },
    {
      "cell_type": "code",
      "metadata": {
        "id": "9Uhrij_gZJ1v",
        "outputId": "72393ba9-bb1e-4cca-f0cd-3c854accaf55",
        "colab": {
          "base_uri": "https://localhost:8080/"
        }
      },
      "source": [
        "# Realizar cálculos\n",
        "## Cálculos de média, média aparada, média ponderada e mediana (justifique suas escolhas de cada parâmetro) para cada disciplina;\n",
        "media_matematica = df['math score'].mean()\n",
        "media_leitura = df['reading score'].mean()\n",
        "media_escrita = df['writing score'].mean()\n",
        "\n",
        "print(f'A média de matemática é {media_matematica}')\n",
        "print(f'A média de leitura é {media_leitura}')\n",
        "print(f'A média de escrita é {media_escrita}')"
      ],
      "execution_count": 40,
      "outputs": [
        {
          "output_type": "stream",
          "text": [
            "A média de matemática é 66.089\n",
            "A média de leitura é 69.169\n",
            "A média de escrita é 68.054\n"
          ],
          "name": "stdout"
        }
      ]
    },
    {
      "cell_type": "code",
      "metadata": {
        "id": "CDgQ101thD41",
        "outputId": "04da38ad-8a0b-435d-b8a8-923dbcb87429",
        "colab": {
          "base_uri": "https://localhost:8080/"
        }
      },
      "source": [
        "media_aparada_matematica = trim_mean(df['math score'], 0.1)\n",
        "media_aparada_leitura = trim_mean(df['reading score'], 0.1)\n",
        "media_aparada_escrita = trim_mean(df['writing score'], 0.1)\n",
        "\n",
        "print(f'A média aparada de matemática é {media_aparada_matematica}')\n",
        "print(f'A média aparada de leitura é {media_aparada_leitura}')\n",
        "print(f'A média aparada de escrita é {media_aparada_escrita}')"
      ],
      "execution_count": 41,
      "outputs": [
        {
          "output_type": "stream",
          "text": [
            "A média aparada de matemática é 66.3775\n",
            "A média aparada de leitura é 69.50125\n",
            "A média aparada de escrita é 68.4075\n"
          ],
          "name": "stdout"
        }
      ]
    },
    {
      "cell_type": "code",
      "metadata": {
        "id": "Jd8DCeG3hodG",
        "outputId": "38a9a035-2271-4dac-f83a-a81518465e58",
        "colab": {
          "base_uri": "https://localhost:8080/"
        }
      },
      "source": [
        "# aprofundar o conhecimento na média ponderada, principalmente a distribuição dos pesos.\n",
        "media_ponderada_matematica = np.average(df['math score'], weights=df['math score'])\n",
        "media_ponderada_leitura = np.average(df['reading score'], weights=df['reading score'])\n",
        "media_ponderada_escrita = np.average(df['writing score'], weights=df['writing score'])\n",
        "\n",
        "print(f'A média pondera de matemática é {media_ponderada_matematica}')\n",
        "print(f'A média pondera de leitura é {media_ponderada_leitura}')\n",
        "print(f'A média pondera de escrita é {media_ponderada_escrita}')"
      ],
      "execution_count": 42,
      "outputs": [
        {
          "output_type": "stream",
          "text": [
            "A média pondera de matemática é 69.56445096763456\n",
            "A média pondera de leitura é 72.24772658271769\n",
            "A média pondera de escrita é 71.44361830311223\n"
          ],
          "name": "stdout"
        }
      ]
    },
    {
      "cell_type": "code",
      "metadata": {
        "id": "ktCASJxkkBat",
        "outputId": "19f2444c-3209-4ed8-b6d2-1b1d54e666f7",
        "colab": {
          "base_uri": "https://localhost:8080/"
        }
      },
      "source": [
        "mediana_matematica = df['math score'].median()\n",
        "mediana_leitura = df['reading score'].median()\n",
        "mediana_escrita = df['writing score'].median()\n",
        "\n",
        "print(f'A mediana de matemática é {mediana_matematica}')\n",
        "print(f'A mediana de leitura é {mediana_leitura}')\n",
        "print(f'A mediana de escrita é {mediana_escrita}')"
      ],
      "execution_count": 43,
      "outputs": [
        {
          "output_type": "stream",
          "text": [
            "A mediana de matemática é 66.0\n",
            "A mediana de leitura é 70.0\n",
            "A mediana de escrita é 69.0\n"
          ],
          "name": "stdout"
        }
      ]
    },
    {
      "cell_type": "markdown",
      "metadata": {
        "id": "2PxRHRP2m5NG"
      },
      "source": [
        "## conclusões da primeira etapa de cálculos:\n",
        "\n",
        "pouca variação entre os dados de cada disciplina, fazendo com que os vários cálculos de média apresentassem resultados semelhantes.\n",
        "\n",
        "o cáculo que mais divergiu foi a média ponderada, mas cabe avaliar o peso utilizado.\n",
        "\n",
        "mesmo aumentando o percentual de aparo na média aparada, percebemos que o resultado foi próximo."
      ]
    },
    {
      "cell_type": "code",
      "metadata": {
        "id": "ZcnYQ6Slm6Di",
        "outputId": "223580bb-1433-4adc-c951-4f86f91ca33c",
        "colab": {
          "base_uri": "https://localhost:8080/"
        }
      },
      "source": [
        "# Cálculos de variância, desvio padrão e MAD de cada disciplina\n",
        "variancia_matematica = df['math score'].var()\n",
        "variancia_leitura = df['reading score'].var()\n",
        "variancia_escrita = df['writing score'].var()\n",
        "\n",
        "print(f'A variância de matemática é {variancia_matematica}')\n",
        "print(f'A variância de leitura é {variancia_leitura}')\n",
        "print(f'A variância de escrita é {variancia_escrita}')"
      ],
      "execution_count": 44,
      "outputs": [
        {
          "output_type": "stream",
          "text": [
            "A variância de matemática é 229.91899799799847\n",
            "A variância de leitura é 213.1656046046047\n",
            "A variância de escrita é 230.90799199199168\n"
          ],
          "name": "stdout"
        }
      ]
    },
    {
      "cell_type": "code",
      "metadata": {
        "id": "XBZqruQypNgA",
        "outputId": "43dcd8d1-029d-4ebf-da3d-2452078dbd47",
        "colab": {
          "base_uri": "https://localhost:8080/"
        }
      },
      "source": [
        "desvio_padrao_matematica = df['math score'].std()\n",
        "desvio_padrao_leitura = df['reading score'].std()\n",
        "desvio_padrao_escrita = df['writing score'].std()\n",
        "\n",
        "print(f'O desvio padrão de matemática é {desvio_padrao_matematica}')\n",
        "print(f'O desvio padrão de leitura é {desvio_padrao_leitura}')\n",
        "print(f'O desvio padrão de escrita é {desvio_padrao_escrita}')"
      ],
      "execution_count": 45,
      "outputs": [
        {
          "output_type": "stream",
          "text": [
            "O desvio padrão de matemática é 15.163080096009468\n",
            "O desvio padrão de leitura é 14.60019193725222\n",
            "O desvio padrão de escrita é 15.195657010869642\n"
          ],
          "name": "stdout"
        }
      ]
    },
    {
      "cell_type": "code",
      "metadata": {
        "id": "HA4EtcDspbM_",
        "outputId": "ed9296ef-832e-4c7f-c213-84452dfd6baa",
        "colab": {
          "base_uri": "https://localhost:8080/"
        }
      },
      "source": [
        "desvio_absoluto_matematica = df['math score'].mad()\n",
        "desvio_absoluto_leitura = df['reading score'].mad()\n",
        "desvio_absoluto_escrita = df['writing score'].mad()\n",
        "\n",
        "print(f'O desvio absoluto (mad) de matemática é {desvio_absoluto_matematica}')\n",
        "print(f'O desvio absoluto (mad) de leitura é {desvio_absoluto_leitura}')\n",
        "print(f'O desvio absoluto (mad) de escrita é {desvio_absoluto_escrita}')"
      ],
      "execution_count": 46,
      "outputs": [
        {
          "output_type": "stream",
          "text": [
            "O desvio absoluto (mad) de matemática é 12.020246\n",
            "O desvio absoluto (mad) de leitura é 11.778606000000005\n",
            "O desvio absoluto (mad) de escrita é 12.200703999999996\n"
          ],
          "name": "stdout"
        }
      ]
    },
    {
      "cell_type": "code",
      "metadata": {
        "id": "ZJTdVIG3ZRGa",
        "outputId": "9cad5d51-9138-4b38-bfcb-5b7a0dbf7487",
        "colab": {
          "base_uri": "https://localhost:8080/",
          "height": 265
        }
      },
      "source": [
        "# Exibir histograma de cada disciplina\n",
        "plt.hist(df['math score'], bins='auto')\n",
        "plt.show()"
      ],
      "execution_count": 47,
      "outputs": [
        {
          "output_type": "display_data",
          "data": {
            "image/png": "[encoded data removed]",
            "text/plain": [
              "<Figure size 432x288 with 1 Axes>"
            ]
          },
          "metadata": {
            "tags": [],
            "needs_background": "light"
          }
        }
      ]
    },
    {
      "cell_type": "code",
      "metadata": {
        "id": "ZMS_gI1yvkYb",
        "outputId": "278ac97a-d211-436a-a646-4d10beb02792",
        "colab": {
          "base_uri": "https://localhost:8080/",
          "height": 265
        }
      },
      "source": [
        "plt.hist(df['reading score'], bins='auto')\n",
        "plt.show()"
      ],
      "execution_count": 48,
      "outputs": [
        {
          "output_type": "display_data",
          "data": {
            "image/png": "[encoded data removed]",
            "text/plain": [
              "<Figure size 432x288 with 1 Axes>"
            ]
          },
          "metadata": {
            "tags": [],
            "needs_background": "light"
          }
        }
      ]
    },
    {
      "cell_type": "code",
      "metadata": {
        "id": "5bCcfMRVxY6x",
        "outputId": "48398f8f-3114-400e-e241-51bae641c361",
        "colab": {
          "base_uri": "https://localhost:8080/",
          "height": 265
        }
      },
      "source": [
        "plt.hist(df['writing score'], bins='auto')\n",
        "plt.show()"
      ],
      "execution_count": 49,
      "outputs": [
        {
          "output_type": "display_data",
          "data": {
            "image/png": "[encoded data removed]",
            "text/plain": [
              "<Figure size 432x288 with 1 Axes>"
            ]
          },
          "metadata": {
            "tags": [],
            "needs_background": "light"
          }
        }
      ]
    },
    {
      "cell_type": "code",
      "metadata": {
        "id": "dOaEM8BTur6_",
        "outputId": "0fbaf225-6f6b-4477-f972-b1d671d98b7d",
        "colab": {
          "base_uri": "https://localhost:8080/"
        }
      },
      "source": [
        "df.min()"
      ],
      "execution_count": 50,
      "outputs": [
        {
          "output_type": "execute_result",
          "data": {
            "text/plain": [
              "gender                                     female\n",
              "race/ethnicity                            group A\n",
              "parental level of education    associate's degree\n",
              "lunch                                free/reduced\n",
              "test preparation course                 completed\n",
              "math score                                      0\n",
              "reading score                                  17\n",
              "writing score                                  10\n",
              "dtype: object"
            ]
          },
          "metadata": {
            "tags": []
          },
          "execution_count": 50
        }
      ]
    },
    {
      "cell_type": "code",
      "metadata": {
        "id": "4UbrxEvNu8No",
        "outputId": "7e232a18-41e5-4b7d-9b56-1a6f98c1b46a",
        "colab": {
          "base_uri": "https://localhost:8080/"
        }
      },
      "source": [
        "df.max()"
      ],
      "execution_count": 51,
      "outputs": [
        {
          "output_type": "execute_result",
          "data": {
            "text/plain": [
              "gender                                     male\n",
              "race/ethnicity                          group E\n",
              "parental level of education    some high school\n",
              "lunch                                  standard\n",
              "test preparation course                    none\n",
              "math score                                  100\n",
              "reading score                               100\n",
              "writing score                               100\n",
              "dtype: object"
            ]
          },
          "metadata": {
            "tags": []
          },
          "execution_count": 51
        }
      ]
    },
    {
      "cell_type": "code",
      "metadata": {
        "id": "Oj8WHI68ZZCZ",
        "outputId": "a60c175c-fc11-450e-b633-61d0505722f4",
        "colab": {
          "base_uri": "https://localhost:8080/",
          "height": 142
        }
      },
      "source": [
        "# Cálculo da matriz de correlação e exibição do respectivo mapa de calor de todas as disciplinas\n",
        "disciplinas_df = df.iloc [:, [5,6,7]]\n",
        "#disciplinas_df.head()\n",
        "matriz_correlacao = disciplinas_df.corr()\n",
        "matriz_correlacao"
      ],
      "execution_count": 52,
      "outputs": [
        {
          "output_type": "execute_result",
          "data": {
            "text/html": [
              "<div>\n",
              "<style scoped>\n",
              "    .dataframe tbody tr th:only-of-type {\n",
              "        vertical-align: middle;\n",
              "    }\n",
              "\n",
              "    .dataframe tbody tr th {\n",
              "        vertical-align: top;\n",
              "    }\n",
              "\n",
              "    .dataframe thead th {\n",
              "        text-align: right;\n",
              "    }\n",
              "</style>\n",
              "<table border=\"1\" class=\"dataframe\">\n",
              "  <thead>\n",
              "    <tr style=\"text-align: right;\">\n",
              "      <th></th>\n",
              "      <th>math score</th>\n",
              "      <th>reading score</th>\n",
              "      <th>writing score</th>\n",
              "    </tr>\n",
              "  </thead>\n",
              "  <tbody>\n",
              "    <tr>\n",
              "      <th>math score</th>\n",
              "      <td>1.000000</td>\n",
              "      <td>0.817580</td>\n",
              "      <td>0.802642</td>\n",
              "    </tr>\n",
              "    <tr>\n",
              "      <th>reading score</th>\n",
              "      <td>0.817580</td>\n",
              "      <td>1.000000</td>\n",
              "      <td>0.954598</td>\n",
              "    </tr>\n",
              "    <tr>\n",
              "      <th>writing score</th>\n",
              "      <td>0.802642</td>\n",
              "      <td>0.954598</td>\n",
              "      <td>1.000000</td>\n",
              "    </tr>\n",
              "  </tbody>\n",
              "</table>\n",
              "</div>"
            ],
            "text/plain": [
              "               math score  reading score  writing score\n",
              "math score       1.000000       0.817580       0.802642\n",
              "reading score    0.817580       1.000000       0.954598\n",
              "writing score    0.802642       0.954598       1.000000"
            ]
          },
          "metadata": {
            "tags": []
          },
          "execution_count": 52
        }
      ]
    },
    {
      "cell_type": "code",
      "metadata": {
        "id": "ZXMGw2SArw0W",
        "outputId": "c9310935-038a-4276-a3f0-dd1966945852",
        "colab": {
          "base_uri": "https://localhost:8080/",
          "height": 277
        }
      },
      "source": [
        "sn.heatmap(matriz_correlacao, annot=True)\n",
        "plt.show()"
      ],
      "execution_count": 53,
      "outputs": [
        {
          "output_type": "display_data",
          "data": {
            "image/png": "[encoded data removed]",
            "text/plain": [
              "<Figure size 432x288 with 2 Axes>"
            ]
          },
          "metadata": {
            "tags": [],
            "needs_background": "light"
          }
        }
      ]
    },
    {
      "cell_type": "markdown",
      "metadata": {
        "id": "QeqNTp1Wsjer"
      },
      "source": [
        "## conclusão desta etapa\n",
        "\n",
        "existe forte correção (maior que 0.9) entre as disciplinas de leitura (reading score) e escrita (writing score)"
      ]
    },
    {
      "cell_type": "code",
      "metadata": {
        "id": "zVxdbS6KZaRN"
      },
      "source": [
        "# Visualização 3D das notas das disciplinas separadas por cada grupo de estudantes"
      ],
      "execution_count": 54,
      "outputs": []
    },
    {
      "cell_type": "markdown",
      "metadata": {
        "id": "LvnW19k3EJv5"
      },
      "source": [
        "Visualização 3D das notas das disciplinas separadas por cada grupo de estudantes de acordo com \"gender\", \"race/ethnicity\", \"parental level of education\", \"lunch\" e \"test preparation course\". Para cada um desses parâmetros, realize uma única visualização (colocando os pontos de cada grupo em uma cor). Ao final, discorra se há algum padrão que pode ser detectado nessas análises; "
      ]
    },
    {
      "cell_type": "code",
      "metadata": {
        "id": "N0yWBpAyDyZo",
        "outputId": "e81c2f2c-06f9-40bf-c754-dc5ed14b61fe",
        "colab": {
          "base_uri": "https://localhost:8080/",
          "height": 542
        }
      },
      "source": [
        "fig = px.scatter(df, x='writing score', y='gender' )\n",
        "fig.show()"
      ],
      "execution_count": 64,
      "outputs": [
        {
          "output_type": "display_data",
          "data": {
            "text/html": [
              "<html>\n",
              "<head><meta charset=\"utf-8\" /></head>\n",
              "<body>\n",
              "    <div>\n",
              "            <script src=\"https://cdnjs.cloudflare.com/ajax/libs/mathjax/2.7.5/MathJax.js?config=TeX-AMS-MML_SVG\"></script><script type=\"text/javascript\">if (window.MathJax) {MathJax.Hub.Config({SVG: {font: \"STIX-Web\"}});}</script>\n",
              "                <script type=\"text/javascript\">window.PlotlyConfig = {MathJaxConfig: 'local'};</script>\n",
              "        <script src=\"https://cdn.plot.ly/plotly-latest.min.js\"></script>    \n",
              "            <div id=\"1f668bc1-2730-4b95-b99a-bddd09d4864c\" class=\"plotly-graph-div\" style=\"height:525px; width:100%;\"></div>\n",
              "            <script type=\"text/javascript\">\n",
              "                \n",
              "                    window.PLOTLYENV=window.PLOTLYENV || {};\n",
              "                    \n",
              "                if (document.getElementById(\"1f668bc1-2730-4b95-b99a-bddd09d4864c\")) {\n",
              "                    Plotly.newPlot(\n",
              "                        '1f668bc1-2730-4b95-b99a-bddd09d4864c',\n",
              "                        [{\"hoverlabel\": {\"namelength\": 0}, \"hovertemplate\": \"writing score=%{x}<br>gender=%{y}\", \"legendgroup\": \"\", \"marker\": {\"color\": \"#636efa\", \"symbol\": \"circle\"}, \"mode\": \"markers\", \"name\": \"\", \"showlegend\": false, \"type\": \"scatter\", \"x\": [74, 88, 93, 44, 75, 78, 92, 39, 67, 50, 52, 43, 73, 70, 58, 78, 86, 28, 46, 61, 63, 70, 53, 73, 80, 72, 55, 75, 65, 75, 74, 61, 65, 38, 82, 79, 83, 59, 88, 57, 54, 68, 65, 66, 54, 57, 62, 76, 76, 82, 48, 68, 42, 75, 87, 43, 86, 49, 58, 10, 72, 34, 55, 71, 59, 61, 37, 74, 56, 57, 73, 63, 48, 56, 41, 38, 22, 81, 72, 68, 50, 45, 54, 63, 34, 82, 88, 74, 67, 82, 74, 36, 71, 50, 92, 82, 62, 70, 62, 62, 67, 74, 89, 47, 90, 72, 100, 64, 70, 72, 98, 49, 47, 54, 100, 74, 82, 79, 61, 65, 89, 92, 93, 56, 73, 86, 67, 74, 74, 51, 82, 40, 70, 84, 75, 48, 41, 56, 67, 69, 71, 64, 54, 47, 78, 33, 75, 66, 81, 93, 69, 68, 66, 47, 61, 88, 78, 60, 87, 64, 74, 85, 52, 49, 91, 100, 51, 78, 78, 70, 74, 78, 81, 70, 54, 87, 58, 77, 62, 100, 75, 66, 47, 70, 49, 65, 65, 68, 45, 87, 69, 79, 66, 62, 85, 52, 65, 51, 55, 76, 86, 77, 69, 68, 42, 78, 62, 76, 76, 66, 79, 27, 60, 56, 81, 75, 88, 39, 70, 56, 74, 73, 62, 75, 73, 54, 71, 54, 64, 94, 66, 42, 83, 78, 84, 77, 67, 74, 51, 80, 66, 83, 55, 43, 69, 71, 74, 68, 62, 53, 49, 83, 70, 72, 52, 70, 68, 77, 78, 81, 77, 78, 51, 90, 68, 41, 81, 77, 95, 70, 61, 42, 58, 71, 76, 73, 93, 75, 80, 57, 42, 46, 84, 78, 46, 82, 88, 82, 76, 77, 68, 70, 57, 75, 80, 60, 43, 68, 50, 75, 81, 52, 81, 64, 83, 69, 81, 44, 67, 52, 80, 57, 68, 69, 75, 65, 91, 78, 69, 63, 84, 79, 80, 53, 43, 94, 62, 19, 77, 51, 61, 35, 53, 81, 95, 66, 69, 43, 27, 60, 52, 63, 74, 67, 67, 75, 57, 95, 66, 76, 69, 52, 80, 57, 70, 70, 61, 69, 61, 89, 59, 78, 58, 32, 58, 60, 53, 61, 58, 85, 71, 70, 72, 96, 73, 41, 82, 100, 77, 62, 83, 95, 71, 45, 43, 75, 70, 67, 64, 75, 59, 77, 67, 56, 77, 41, 63, 95, 57, 54, 67, 43, 55, 100, 62, 68, 63, 77, 56, 85, 74, 78, 60, 67, 79, 69, 68, 67, 62, 54, 93, 64, 67, 80, 34, 62, 86, 65, 53, 54, 59, 70, 55, 50, 66, 53, 64, 73, 51, 82, 79, 80, 69, 76, 73, 77, 60, 80, 42, 72, 85, 97, 74, 49, 62, 47, 89, 48, 100, 68, 55, 45, 76, 91, 62, 91, 38, 65, 85, 76, 90, 74, 84, 61, 91, 83, 66, 72, 70, 67, 68, 56, 61, 46, 54, 71, 56, 74, 57, 82, 76, 70, 90, 90, 68, 66, 52, 76, 68, 72, 82, 92, 54, 92, 54, 80, 66, 54, 77, 87, 73, 43, 52, 62, 94, 85, 84, 73, 78, 79, 52, 84, 57, 50, 49, 59, 60, 43, 47, 70, 73, 53, 58, 94, 68, 83, 58, 62, 71, 86, 68, 80, 79, 89, 66, 80, 97, 64, 64, 69, 65, 88, 50, 64, 40, 33, 79, 66, 70, 62, 79, 74, 92, 80, 46, 45, 100, 78, 47, 67, 70, 92, 56, 64, 71, 53, 52, 89, 58, 68, 96, 80, 78, 80, 77, 76, 73, 62, 65, 65, 54, 50, 64, 73, 99, 72, 15, 48, 73, 81, 63, 30, 80, 51, 90, 62, 82, 54, 62, 65, 63, 66, 91, 74, 93, 72, 38, 83, 84, 68, 54, 56, 52, 86, 62, 99, 63, 46, 46, 55, 70, 65, 81, 85, 80, 64, 81, 88, 74, 73, 51, 90, 79, 80, 60, 81, 65, 68, 55, 81, 53, 76, 98, 74, 79, 67, 64, 61, 58, 85, 73, 63, 69, 67, 63, 60, 71, 87, 61, 77, 68, 50, 76, 84, 78, 66, 76, 76, 78, 60, 74, 60, 54, 44, 68, 100, 68, 73, 44, 83, 53, 78, 81, 73, 56, 86, 90, 70, 79, 59, 82, 72, 87, 67, 64, 65, 36, 52, 79, 58, 90, 85, 99, 84, 74, 87, 72, 99, 74, 80, 70, 59, 88, 42, 41, 71, 77, 57, 84, 37, 80, 43, 94, 44, 57, 59, 84, 73, 73, 55, 72, 56, 82, 72, 47, 74, 71, 68, 59, 86, 68, 65, 75, 85, 53, 92, 52, 72, 65, 77, 64, 54, 86, 63, 59, 72, 77, 60, 75, 57, 49, 74, 72, 79, 60, 55, 70, 43, 82, 82, 57, 84, 82, 62, 79, 44, 77, 32, 61, 61, 60, 70, 69, 77, 51, 73, 70, 81, 54, 57, 68, 73, 95, 87, 78, 74, 75, 40, 69, 51, 36, 49, 67, 76, 83, 87, 64, 76, 68, 88, 92, 93, 51, 82, 52, 58, 70, 76, 81, 53, 57, 89, 58, 89, 45, 74, 57, 79, 53, 73, 46, 51, 36, 76, 64, 84, 85, 50, 68, 69, 67, 63, 93, 61, 55, 96, 65, 81, 46, 72, 53, 87, 38, 80, 91, 88, 52, 41, 72, 51, 47, 76, 78, 82, 61, 66, 84, 54, 80, 74, 66, 70, 71, 44, 54, 80, 95, 59, 74, 48, 91, 85, 73, 75, 69, 38, 27, 79, 63, 82, 89, 74, 41, 100, 84, 77, 51, 91, 72, 70, 48, 82, 66, 66, 55, 66, 100, 52, 80, 91, 67, 46, 66, 65, 69, 60, 52, 71, 44, 51, 70, 62, 73, 74, 90, 58, 53, 57, 85, 69, 72, 96, 64, 61, 61, 58, 80, 60, 52, 73, 71, 83, 72, 54, 69, 62, 81, 100, 59, 71, 64, 53, 100, 75, 58, 72, 64, 60, 67, 80, 100, 69, 60, 61, 67, 77, 60, 58, 48, 94, 23, 78, 86, 91, 82, 54, 51, 76, 45, 83, 75, 78, 76, 74, 62, 95, 55, 65, 77, 86], \"xaxis\": \"x\", \"y\": [\"female\", \"female\", \"female\", \"male\", \"male\", \"female\", \"female\", \"male\", \"male\", \"female\", \"male\", \"male\", \"female\", \"male\", \"female\", \"female\", \"male\", \"female\", \"male\", \"female\", \"male\", \"female\", \"male\", \"female\", \"male\", \"male\", \"male\", \"female\", \"male\", \"female\", \"female\", \"female\", \"female\", \"male\", \"male\", \"male\", \"female\", \"female\", \"female\", \"male\", \"male\", \"female\", \"female\", \"male\", \"female\", \"male\", \"female\", \"female\", \"female\", \"male\", \"male\", \"male\", \"male\", \"male\", \"female\", \"female\", \"female\", \"male\", \"male\", \"female\", \"male\", \"male\", \"male\", \"female\", \"female\", \"male\", \"male\", \"female\", \"male\", \"female\", \"female\", \"male\", \"female\", \"male\", \"male\", \"male\", \"male\", \"male\", \"female\", \"female\", \"female\", \"male\", \"male\", \"male\", \"male\", \"female\", \"female\", \"female\", \"female\", \"female\", \"female\", \"male\", \"male\", \"male\", \"female\", \"male\", \"male\", \"female\", \"female\", \"female\", \"male\", \"male\", \"female\", \"male\", \"male\", \"female\", \"female\", \"male\", \"female\", \"female\", \"female\", \"male\", \"male\", \"female\", \"female\", \"male\", \"female\", \"female\", \"female\", \"female\", \"female\", \"male\", \"female\", \"male\", \"male\", \"female\", \"male\", \"male\", \"male\", \"female\", \"male\", \"male\", \"male\", \"female\", \"male\", \"male\", \"male\", \"male\", \"female\", \"male\", \"female\", \"female\", \"female\", \"male\", \"male\", \"female\", \"male\", \"male\", \"female\", \"male\", \"male\", \"male\", \"female\", \"male\", \"male\", \"female\", \"female\", \"male\", \"female\", \"male\", \"male\", \"female\", \"male\", \"male\", \"female\", \"female\", \"male\", \"female\", \"female\", \"female\", \"male\", \"male\", \"female\", \"female\", \"female\", \"female\", \"female\", \"female\", \"female\", \"female\", \"male\", \"female\", \"female\", \"female\", \"male\", \"male\", \"male\", \"male\", \"male\", \"female\", \"female\", \"male\", \"female\", \"male\", \"female\", \"male\", \"male\", \"male\", \"female\", \"female\", \"female\", \"female\", \"male\", \"female\", \"male\", \"male\", \"male\", \"male\", \"female\", \"female\", \"male\", \"male\", \"female\", \"male\", \"male\", \"male\", \"female\", \"female\", \"male\", \"male\", \"female\", \"male\", \"female\", \"male\", \"female\", \"female\", \"female\", \"male\", \"male\", \"female\", \"male\", \"male\", \"female\", \"male\", \"male\", \"male\", \"male\", \"female\", \"male\", \"male\", \"male\", \"female\", \"female\", \"male\", \"male\", \"male\", \"male\", \"female\", \"female\", \"male\", \"male\", \"female\", \"female\", \"male\", \"male\", \"female\", \"female\", \"male\", \"female\", \"female\", \"female\", \"male\", \"female\", \"female\", \"male\", \"male\", \"female\", \"female\", \"female\", \"female\", \"male\", \"male\", \"female\", \"female\", \"male\", \"male\", \"female\", \"female\", \"female\", \"male\", \"male\", \"male\", \"female\", \"female\", \"female\", \"male\", \"male\", \"female\", \"male\", \"male\", \"male\", \"male\", \"male\", \"female\", \"male\", \"male\", \"male\", \"male\", \"male\", \"male\", \"male\", \"male\", \"female\", \"male\", \"female\", \"male\", \"male\", \"male\", \"female\", \"female\", \"female\", \"male\", \"male\", \"female\", \"female\", \"male\", \"female\", \"male\", \"male\", \"female\", \"female\", \"female\", \"female\", \"female\", \"female\", \"female\", \"male\", \"male\", \"male\", \"female\", \"male\", \"male\", \"male\", \"male\", \"female\", \"female\", \"male\", \"male\", \"female\", \"female\", \"male\", \"female\", \"female\", \"male\", \"male\", \"female\", \"male\", \"female\", \"male\", \"male\", \"female\", \"male\", \"female\", \"female\", \"female\", \"female\", \"male\", \"female\", \"male\", \"female\", \"female\", \"male\", \"female\", \"female\", \"male\", \"male\", \"male\", \"male\", \"female\", \"female\", \"male\", \"female\", \"male\", \"female\", \"female\", \"male\", \"female\", \"female\", \"female\", \"male\", \"female\", \"male\", \"male\", \"female\", \"female\", \"female\", \"female\", \"female\", \"female\", \"male\", \"male\", \"female\", \"male\", \"male\", \"female\", \"male\", \"female\", \"female\", \"male\", \"male\", \"female\", \"male\", \"female\", \"female\", \"female\", \"female\", \"male\", \"female\", \"female\", \"male\", \"female\", \"male\", \"male\", \"male\", \"female\", \"male\", \"male\", \"male\", \"male\", \"male\", \"female\", \"female\", \"female\", \"female\", \"male\", \"female\", \"male\", \"male\", \"male\", \"male\", \"male\", \"female\", \"male\", \"female\", \"male\", \"male\", \"male\", \"male\", \"male\", \"male\", \"female\", \"female\", \"female\", \"female\", \"male\", \"female\", \"male\", \"male\", \"male\", \"male\", \"female\", \"female\", \"female\", \"male\", \"female\", \"male\", \"female\", \"male\", \"female\", \"male\", \"male\", \"male\", \"female\", \"female\", \"male\", \"female\", \"female\", \"male\", \"female\", \"male\", \"female\", \"female\", \"female\", \"female\", \"female\", \"female\", \"male\", \"male\", \"female\", \"male\", \"male\", \"female\", \"male\", \"male\", \"female\", \"male\", \"male\", \"female\", \"male\", \"male\", \"female\", \"female\", \"female\", \"female\", \"female\", \"male\", \"female\", \"female\", \"female\", \"male\", \"female\", \"female\", \"male\", \"female\", \"female\", \"female\", \"male\", \"male\", \"male\", \"female\", \"male\", \"male\", \"male\", \"female\", \"female\", \"female\", \"female\", \"female\", \"female\", \"female\", \"male\", \"female\", \"male\", \"male\", \"male\", \"male\", \"male\", \"female\", \"female\", \"female\", \"female\", \"female\", \"male\", \"female\", \"male\", \"female\", \"male\", \"female\", \"male\", \"male\", \"male\", \"male\", \"female\", \"female\", \"female\", \"male\", \"female\", \"male\", \"female\", \"male\", \"male\", \"male\", \"female\", \"male\", \"male\", \"female\", \"female\", \"male\", \"female\", \"male\", \"female\", \"female\", \"male\", \"female\", \"male\", \"male\", \"female\", \"female\", \"male\", \"male\", \"male\", \"male\", \"female\", \"female\", \"female\", \"male\", \"male\", \"female\", \"female\", \"female\", \"female\", \"female\", \"female\", \"female\", \"female\", \"female\", \"female\", \"female\", \"female\", \"female\", \"male\", \"male\", \"male\", \"female\", \"female\", \"female\", \"male\", \"male\", \"female\", \"female\", \"female\", \"female\", \"female\", \"male\", \"male\", \"male\", \"female\", \"female\", \"female\", \"female\", \"male\", \"female\", \"male\", \"female\", \"female\", \"female\", \"female\", \"male\", \"male\", \"male\", \"female\", \"male\", \"male\", \"male\", \"female\", \"male\", \"male\", \"male\", \"male\", \"female\", \"male\", \"male\", \"female\", \"female\", \"male\", \"male\", \"female\", \"female\", \"male\", \"female\", \"male\", \"female\", \"female\", \"female\", \"male\", \"female\", \"female\", \"female\", \"female\", \"female\", \"male\", \"female\", \"female\", \"female\", \"female\", \"female\", \"male\", \"male\", \"female\", \"male\", \"male\", \"male\", \"female\", \"female\", \"male\", \"female\", \"female\", \"female\", \"male\", \"male\", \"female\", \"male\", \"female\", \"female\", \"female\", \"female\", \"female\", \"female\", \"male\", \"male\", \"female\", \"male\", \"male\", \"female\", \"male\", \"female\", \"male\", \"male\", \"male\", \"male\", \"female\", \"female\", \"female\", \"female\", \"female\", \"female\", \"female\", \"female\", \"female\", \"male\", \"female\", \"female\", \"male\", \"female\", \"female\", \"male\", \"male\", \"male\", \"male\", \"female\", \"male\", \"female\", \"female\", \"male\", \"female\", \"female\", \"male\", \"female\", \"female\", \"male\", \"female\", \"male\", \"female\", \"male\", \"male\", \"male\", \"female\", \"male\", \"female\", \"male\", \"female\", \"male\", \"female\", \"male\", \"female\", \"male\", \"male\", \"female\", \"male\", \"male\", \"male\", \"female\", \"female\", \"female\", \"male\", \"male\", \"male\", \"male\", \"female\", \"male\", \"male\", \"male\", \"male\", \"female\", \"male\", \"female\", \"male\", \"male\", \"female\", \"male\", \"female\", \"female\", \"male\", \"female\", \"male\", \"female\", \"female\", \"male\", \"female\", \"male\", \"male\", \"male\", \"female\", \"female\", \"male\", \"female\", \"female\", \"female\", \"female\", \"male\", \"female\", \"female\", \"female\", \"female\", \"male\", \"female\", \"female\", \"female\", \"male\", \"female\", \"female\", \"female\", \"male\", \"male\", \"female\", \"female\", \"male\", \"female\", \"male\", \"female\", \"male\", \"male\", \"female\", \"female\", \"female\", \"male\", \"female\", \"female\", \"male\", \"male\", \"male\", \"male\", \"female\", \"male\", \"female\", \"male\", \"female\", \"male\", \"female\", \"female\", \"female\", \"female\", \"male\", \"female\", \"female\", \"male\", \"female\", \"female\", \"female\", \"male\", \"female\", \"female\", \"male\", \"female\", \"male\", \"female\", \"male\", \"female\", \"male\", \"female\", \"female\", \"male\", \"female\", \"male\", \"female\", \"male\", \"male\", \"male\", \"female\", \"male\", \"male\", \"female\", \"female\", \"male\", \"male\", \"female\", \"male\", \"female\", \"male\", \"male\", \"female\", \"female\", \"male\", \"female\", \"male\", \"male\", \"male\", \"male\", \"male\", \"male\", \"male\", \"female\", \"male\", \"male\", \"female\", \"male\", \"male\", \"male\", \"female\", \"female\", \"male\", \"female\", \"female\", \"male\", \"female\", \"female\", \"female\", \"male\", \"female\", \"male\", \"female\", \"female\", \"female\", \"male\", \"female\", \"female\", \"male\", \"female\", \"male\", \"female\", \"male\", \"female\", \"female\", \"female\", \"female\", \"male\", \"male\", \"female\", \"female\", \"male\", \"male\", \"female\", \"female\", \"female\", \"female\", \"female\", \"male\", \"female\", \"female\", \"male\", \"male\", \"female\", \"male\", \"female\", \"male\", \"male\", \"male\", \"female\", \"male\", \"female\", \"male\", \"male\", \"male\", \"male\", \"male\", \"male\", \"male\", \"female\", \"male\", \"male\", \"male\", \"female\", \"male\", \"male\", \"female\", \"female\", \"male\", \"female\", \"male\", \"female\", \"male\", \"female\", \"female\", \"male\", \"female\", \"male\", \"male\", \"female\", \"female\", \"male\", \"female\", \"female\", \"female\", \"female\", \"male\", \"female\", \"male\", \"male\", \"female\", \"female\", \"female\", \"male\", \"female\", \"female\", \"female\", \"female\", \"male\", \"male\", \"male\", \"female\", \"female\", \"male\", \"male\", \"female\", \"female\", \"male\", \"female\", \"male\", \"female\", \"female\", \"male\", \"female\", \"female\", \"female\", \"male\", \"female\", \"male\", \"female\", \"female\", \"female\"], \"yaxis\": \"y\"}],\n",
              "                        {\"legend\": {\"tracegroupgap\": 0}, \"margin\": {\"t\": 60}, \"template\": {\"data\": {\"bar\": [{\"error_x\": {\"color\": \"#2a3f5f\"}, \"error_y\": {\"color\": \"#2a3f5f\"}, \"marker\": {\"line\": {\"color\": \"#E5ECF6\", \"width\": 0.5}}, \"type\": \"bar\"}], \"barpolar\": [{\"marker\": {\"line\": {\"color\": \"#E5ECF6\", \"width\": 0.5}}, \"type\": \"barpolar\"}], \"carpet\": [{\"aaxis\": {\"endlinecolor\": \"#2a3f5f\", \"gridcolor\": \"white\", \"linecolor\": \"white\", \"minorgridcolor\": \"white\", \"startlinecolor\": \"#2a3f5f\"}, \"baxis\": {\"endlinecolor\": \"#2a3f5f\", \"gridcolor\": \"white\", \"linecolor\": \"white\", \"minorgridcolor\": \"white\", \"startlinecolor\": \"#2a3f5f\"}, \"type\": \"carpet\"}], \"choropleth\": [{\"colorbar\": {\"outlinewidth\": 0, \"ticks\": \"\"}, \"type\": \"choropleth\"}], \"contour\": [{\"colorbar\": {\"outlinewidth\": 0, \"ticks\": \"\"}, \"colorscale\": [[0.0, \"#0d0887\"], [0.1111111111111111, \"#46039f\"], [0.2222222222222222, \"#7201a8\"], [0.3333333333333333, \"#9c179e\"], [0.4444444444444444, \"#bd3786\"], [0.5555555555555556, \"#d8576b\"], [0.6666666666666666, \"#ed7953\"], [0.7777777777777778, \"#fb9f3a\"], [0.8888888888888888, \"#fdca26\"], [1.0, \"#f0f921\"]], \"type\": \"contour\"}], \"contourcarpet\": [{\"colorbar\": {\"outlinewidth\": 0, \"ticks\": \"\"}, \"type\": \"contourcarpet\"}], \"heatmap\": [{\"colorbar\": {\"outlinewidth\": 0, \"ticks\": \"\"}, \"colorscale\": [[0.0, \"#0d0887\"], [0.1111111111111111, \"#46039f\"], [0.2222222222222222, \"#7201a8\"], [0.3333333333333333, \"#9c179e\"], [0.4444444444444444, \"#bd3786\"], [0.5555555555555556, \"#d8576b\"], [0.6666666666666666, \"#ed7953\"], [0.7777777777777778, \"#fb9f3a\"], [0.8888888888888888, \"#fdca26\"], [1.0, \"#f0f921\"]], \"type\": \"heatmap\"}], \"heatmapgl\": [{\"colorbar\": {\"outlinewidth\": 0, \"ticks\": \"\"}, \"colorscale\": [[0.0, \"#0d0887\"], [0.1111111111111111, \"#46039f\"], [0.2222222222222222, \"#7201a8\"], [0.3333333333333333, \"#9c179e\"], [0.4444444444444444, \"#bd3786\"], [0.5555555555555556, \"#d8576b\"], [0.6666666666666666, \"#ed7953\"], [0.7777777777777778, \"#fb9f3a\"], [0.8888888888888888, \"#fdca26\"], [1.0, \"#f0f921\"]], \"type\": \"heatmapgl\"}], \"histogram\": [{\"marker\": {\"colorbar\": {\"outlinewidth\": 0, \"ticks\": \"\"}}, \"type\": \"histogram\"}], \"histogram2d\": [{\"colorbar\": {\"outlinewidth\": 0, \"ticks\": \"\"}, \"colorscale\": [[0.0, \"#0d0887\"], [0.1111111111111111, \"#46039f\"], [0.2222222222222222, \"#7201a8\"], [0.3333333333333333, \"#9c179e\"], [0.4444444444444444, \"#bd3786\"], [0.5555555555555556, \"#d8576b\"], [0.6666666666666666, \"#ed7953\"], [0.7777777777777778, \"#fb9f3a\"], [0.8888888888888888, \"#fdca26\"], [1.0, \"#f0f921\"]], \"type\": \"histogram2d\"}], \"histogram2dcontour\": [{\"colorbar\": {\"outlinewidth\": 0, \"ticks\": \"\"}, \"colorscale\": [[0.0, \"#0d0887\"], [0.1111111111111111, \"#46039f\"], [0.2222222222222222, \"#7201a8\"], [0.3333333333333333, \"#9c179e\"], [0.4444444444444444, \"#bd3786\"], [0.5555555555555556, \"#d8576b\"], [0.6666666666666666, \"#ed7953\"], [0.7777777777777778, \"#fb9f3a\"], [0.8888888888888888, \"#fdca26\"], [1.0, \"#f0f921\"]], \"type\": \"histogram2dcontour\"}], \"mesh3d\": [{\"colorbar\": {\"outlinewidth\": 0, \"ticks\": \"\"}, \"type\": \"mesh3d\"}], \"parcoords\": [{\"line\": {\"colorbar\": {\"outlinewidth\": 0, \"ticks\": \"\"}}, \"type\": \"parcoords\"}], \"pie\": [{\"automargin\": true, \"type\": \"pie\"}], \"scatter\": [{\"marker\": {\"colorbar\": {\"outlinewidth\": 0, \"ticks\": \"\"}}, \"type\": \"scatter\"}], \"scatter3d\": [{\"line\": {\"colorbar\": {\"outlinewidth\": 0, \"ticks\": \"\"}}, \"marker\": {\"colorbar\": {\"outlinewidth\": 0, \"ticks\": \"\"}}, \"type\": \"scatter3d\"}], \"scattercarpet\": [{\"marker\": {\"colorbar\": {\"outlinewidth\": 0, \"ticks\": \"\"}}, \"type\": \"scattercarpet\"}], \"scattergeo\": [{\"marker\": {\"colorbar\": {\"outlinewidth\": 0, \"ticks\": \"\"}}, \"type\": \"scattergeo\"}], \"scattergl\": [{\"marker\": {\"colorbar\": {\"outlinewidth\": 0, \"ticks\": \"\"}}, \"type\": \"scattergl\"}], \"scattermapbox\": [{\"marker\": {\"colorbar\": {\"outlinewidth\": 0, \"ticks\": \"\"}}, \"type\": \"scattermapbox\"}], \"scatterpolar\": [{\"marker\": {\"colorbar\": {\"outlinewidth\": 0, \"ticks\": \"\"}}, \"type\": \"scatterpolar\"}], \"scatterpolargl\": [{\"marker\": {\"colorbar\": {\"outlinewidth\": 0, \"ticks\": \"\"}}, \"type\": \"scatterpolargl\"}], \"scatterternary\": [{\"marker\": {\"colorbar\": {\"outlinewidth\": 0, \"ticks\": \"\"}}, \"type\": \"scatterternary\"}], \"surface\": [{\"colorbar\": {\"outlinewidth\": 0, \"ticks\": \"\"}, \"colorscale\": [[0.0, \"#0d0887\"], [0.1111111111111111, \"#46039f\"], [0.2222222222222222, \"#7201a8\"], [0.3333333333333333, \"#9c179e\"], [0.4444444444444444, \"#bd3786\"], [0.5555555555555556, \"#d8576b\"], [0.6666666666666666, \"#ed7953\"], [0.7777777777777778, \"#fb9f3a\"], [0.8888888888888888, \"#fdca26\"], [1.0, \"#f0f921\"]], \"type\": \"surface\"}], \"table\": [{\"cells\": {\"fill\": {\"color\": \"#EBF0F8\"}, \"line\": {\"color\": \"white\"}}, \"header\": {\"fill\": {\"color\": \"#C8D4E3\"}, \"line\": {\"color\": \"white\"}}, \"type\": \"table\"}]}, \"layout\": {\"annotationdefaults\": {\"arrowcolor\": \"#2a3f5f\", \"arrowhead\": 0, \"arrowwidth\": 1}, \"coloraxis\": {\"colorbar\": {\"outlinewidth\": 0, \"ticks\": \"\"}}, \"colorscale\": {\"diverging\": [[0, \"#8e0152\"], [0.1, \"#c51b7d\"], [0.2, \"#de77ae\"], [0.3, \"#f1b6da\"], [0.4, \"#fde0ef\"], [0.5, \"#f7f7f7\"], [0.6, \"#e6f5d0\"], [0.7, \"#b8e186\"], [0.8, \"#7fbc41\"], [0.9, \"#4d9221\"], [1, \"#276419\"]], \"sequential\": [[0.0, \"#0d0887\"], [0.1111111111111111, \"#46039f\"], [0.2222222222222222, \"#7201a8\"], [0.3333333333333333, \"#9c179e\"], [0.4444444444444444, \"#bd3786\"], [0.5555555555555556, \"#d8576b\"], [0.6666666666666666, \"#ed7953\"], [0.7777777777777778, \"#fb9f3a\"], [0.8888888888888888, \"#fdca26\"], [1.0, \"#f0f921\"]], \"sequentialminus\": [[0.0, \"#0d0887\"], [0.1111111111111111, \"#46039f\"], [0.2222222222222222, \"#7201a8\"], [0.3333333333333333, \"#9c179e\"], [0.4444444444444444, \"#bd3786\"], [0.5555555555555556, \"#d8576b\"], [0.6666666666666666, \"#ed7953\"], [0.7777777777777778, \"#fb9f3a\"], [0.8888888888888888, \"#fdca26\"], [1.0, \"#f0f921\"]]}, \"colorway\": [\"#636efa\", \"#EF553B\", \"#00cc96\", \"#ab63fa\", \"#FFA15A\", \"#19d3f3\", \"#FF6692\", \"#B6E880\", \"#FF97FF\", \"#FECB52\"], \"font\": {\"color\": \"#2a3f5f\"}, \"geo\": {\"bgcolor\": \"white\", \"lakecolor\": \"white\", \"landcolor\": \"#E5ECF6\", \"showlakes\": true, \"showland\": true, \"subunitcolor\": \"white\"}, \"hoverlabel\": {\"align\": \"left\"}, \"hovermode\": \"closest\", \"mapbox\": {\"style\": \"light\"}, \"paper_bgcolor\": \"white\", \"plot_bgcolor\": \"#E5ECF6\", \"polar\": {\"angularaxis\": {\"gridcolor\": \"white\", \"linecolor\": \"white\", \"ticks\": \"\"}, \"bgcolor\": \"#E5ECF6\", \"radialaxis\": {\"gridcolor\": \"white\", \"linecolor\": \"white\", \"ticks\": \"\"}}, \"scene\": {\"xaxis\": {\"backgroundcolor\": \"#E5ECF6\", \"gridcolor\": \"white\", \"gridwidth\": 2, \"linecolor\": \"white\", \"showbackground\": true, \"ticks\": \"\", \"zerolinecolor\": \"white\"}, \"yaxis\": {\"backgroundcolor\": \"#E5ECF6\", \"gridcolor\": \"white\", \"gridwidth\": 2, \"linecolor\": \"white\", \"showbackground\": true, \"ticks\": \"\", \"zerolinecolor\": \"white\"}, \"zaxis\": {\"backgroundcolor\": \"#E5ECF6\", \"gridcolor\": \"white\", \"gridwidth\": 2, \"linecolor\": \"white\", \"showbackground\": true, \"ticks\": \"\", \"zerolinecolor\": \"white\"}}, \"shapedefaults\": {\"line\": {\"color\": \"#2a3f5f\"}}, \"ternary\": {\"aaxis\": {\"gridcolor\": \"white\", \"linecolor\": \"white\", \"ticks\": \"\"}, \"baxis\": {\"gridcolor\": \"white\", \"linecolor\": \"white\", \"ticks\": \"\"}, \"bgcolor\": \"#E5ECF6\", \"caxis\": {\"gridcolor\": \"white\", \"linecolor\": \"white\", \"ticks\": \"\"}}, \"title\": {\"x\": 0.05}, \"xaxis\": {\"automargin\": true, \"gridcolor\": \"white\", \"linecolor\": \"white\", \"ticks\": \"\", \"title\": {\"standoff\": 15}, \"zerolinecolor\": \"white\", \"zerolinewidth\": 2}, \"yaxis\": {\"automargin\": true, \"gridcolor\": \"white\", \"linecolor\": \"white\", \"ticks\": \"\", \"title\": {\"standoff\": 15}, \"zerolinecolor\": \"white\", \"zerolinewidth\": 2}}}, \"xaxis\": {\"anchor\": \"y\", \"domain\": [0.0, 1.0], \"title\": {\"text\": \"writing score\"}}, \"yaxis\": {\"anchor\": \"x\", \"domain\": [0.0, 1.0], \"title\": {\"text\": \"gender\"}}},\n",
              "                        {\"responsive\": true}\n",
              "                    ).then(function(){\n",
              "                            \n",
              "var gd = document.getElementById('1f668bc1-2730-4b95-b99a-bddd09d4864c');\n",
              "var x = new MutationObserver(function (mutations, observer) {{\n",
              "        var display = window.getComputedStyle(gd).display;\n",
              "        if (!display || display === 'none') {{\n",
              "            console.log([gd, 'removed!']);\n",
              "            Plotly.purge(gd);\n",
              "            observer.disconnect();\n",
              "        }}\n",
              "}});\n",
              "\n",
              "// Listen for the removal of the full notebook cells\n",
              "var notebookContainer = gd.closest('#notebook-container');\n",
              "if (notebookContainer) {{\n",
              "    x.observe(notebookContainer, {childList: true});\n",
              "}}\n",
              "\n",
              "// Listen for the clearing of the current output cell\n",
              "var outputEl = gd.closest('.output');\n",
              "if (outputEl) {{\n",
              "    x.observe(outputEl, {childList: true});\n",
              "}}\n",
              "\n",
              "                        })\n",
              "                };\n",
              "                \n",
              "            </script>\n",
              "        </div>\n",
              "</body>\n",
              "</html>"
            ]
          },
          "metadata": {
            "tags": []
          }
        }
      ]
    },
    {
      "cell_type": "code",
      "metadata": {
        "id": "tdR1lY9iZhzM"
      },
      "source": [
        "# Escrever as conclusões mais interessantes a respeito do dataset"
      ],
      "execution_count": 55,
      "outputs": []
    }
  ]
}